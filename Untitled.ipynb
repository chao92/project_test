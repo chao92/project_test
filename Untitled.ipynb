{
 "cells": [
  {
   "cell_type": "code",
   "execution_count": 1,
   "id": "b7237eb9",
   "metadata": {},
   "outputs": [],
   "source": [
    "from attack.models import *"
   ]
  },
  {
   "cell_type": "code",
   "execution_count": 3,
   "id": "59a4c07a",
   "metadata": {},
   "outputs": [
    {
     "name": "stdout",
     "output_type": "stream",
     "text": [
      " --------- GCN 2l initialize ------------\n"
     ]
    }
   ],
   "source": [
    "model = GCN_2l(model_level='node', dim_node=1433, dim_hidden=16, num_classes=7)"
   ]
  }
 ],
 "metadata": {
  "kernelspec": {
   "display_name": "Python 3 (ipykernel)",
   "language": "python",
   "name": "python3"
  },
  "language_info": {
   "codemirror_mode": {
    "name": "ipython",
    "version": 3
   },
   "file_extension": ".py",
   "mimetype": "text/x-python",
   "name": "python",
   "nbconvert_exporter": "python",
   "pygments_lexer": "ipython3",
   "version": "3.8.12"
  }
 },
 "nbformat": 4,
 "nbformat_minor": 5
}
